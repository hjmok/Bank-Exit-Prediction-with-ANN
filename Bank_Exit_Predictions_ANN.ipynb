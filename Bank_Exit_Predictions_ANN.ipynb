{
  "nbformat": 4,
  "nbformat_minor": 0,
  "metadata": {
    "colab": {
      "name": "ANN Github.ipynb",
      "provenance": [],
      "collapsed_sections": []
    },
    "kernelspec": {
      "name": "python3",
      "display_name": "Python 3"
    }
  },
  "cells": [
    {
      "cell_type": "markdown",
      "metadata": {
        "id": "Ojkz3-6fgyZa"
      },
      "source": [
        "# Part 1 - Data Preprocessing"
      ]
    },
    {
      "cell_type": "markdown",
      "metadata": {
        "id": "F_-7bLghg2YH"
      },
      "source": [
        "Importing the Libraries"
      ]
    },
    {
      "cell_type": "code",
      "metadata": {
        "id": "p7d9lPfvhQIf",
        "colab": {
          "base_uri": "https://localhost:8080/",
          "height": 35
        },
        "outputId": "b5ea4143-99aa-48a1-9da0-e07c9a5efeba"
      },
      "source": [
        "import numpy as np\n",
        "import pandas as pd\n",
        "import tensorflow as tf\n",
        "from sklearn.preprocessing import LabelEncoder, OneHotEncoder, StandardScaler\n",
        "from sklearn.compose import ColumnTransformer\n",
        "from sklearn.model_selection import train_test_split\n",
        "from tensorflow.keras.callbacks import EarlyStopping\n",
        "\n",
        "tf.__version__"
      ],
      "execution_count": 1,
      "outputs": [
        {
          "output_type": "execute_result",
          "data": {
            "application/vnd.google.colaboratory.intrinsic+json": {
              "type": "string"
            },
            "text/plain": [
              "'2.4.1'"
            ]
          },
          "metadata": {
            "tags": []
          },
          "execution_count": 1
        }
      ]
    },
    {
      "cell_type": "markdown",
      "metadata": {
        "id": "Ijhra1X-h9MQ"
      },
      "source": [
        "Importing the Dataset"
      ]
    },
    {
      "cell_type": "code",
      "metadata": {
        "id": "i1wY99zziR5W",
        "colab": {
          "base_uri": "https://localhost:8080/"
        },
        "outputId": "9a7bc92f-574b-433c-af00-b7d008952b38"
      },
      "source": [
        "dataset = pd.read_csv('ANN/Churn_Modelling.csv')\n",
        "X = dataset.iloc[:, 3:-1].values #take all rows and index columns from 3 to 12, cuz the first 3 (row number, name, customer ID) have no affect on results\n",
        "y = dataset.iloc[:, -1].values #take all rows of column 13 (last one) is the result we're looking for, which is whether they exited or not\n",
        "\n",
        "print(X)\n",
        "print(y)"
      ],
      "execution_count": 2,
      "outputs": [
        {
          "output_type": "stream",
          "text": [
            "[[619 'France' 'Female' ... 1 1 101348.88]\n",
            " [608 'Spain' 'Female' ... 0 1 112542.58]\n",
            " [502 'France' 'Female' ... 1 0 113931.57]\n",
            " ...\n",
            " [709 'France' 'Female' ... 0 1 42085.58]\n",
            " [772 'Germany' 'Male' ... 1 0 92888.52]\n",
            " [792 'France' 'Female' ... 1 0 38190.78]]\n",
            "[1 0 1 ... 1 1 0]\n"
          ],
          "name": "stdout"
        }
      ]
    },
    {
      "cell_type": "code",
      "metadata": {
        "colab": {
          "base_uri": "https://localhost:8080/",
          "height": 198
        },
        "id": "srUtFQAaSnhB",
        "outputId": "9ee3e6b8-bfeb-4e49-e437-d207623d4431"
      },
      "source": [
        "dataset.head()"
      ],
      "execution_count": 16,
      "outputs": [
        {
          "output_type": "execute_result",
          "data": {
            "text/html": [
              "<div>\n",
              "<style scoped>\n",
              "    .dataframe tbody tr th:only-of-type {\n",
              "        vertical-align: middle;\n",
              "    }\n",
              "\n",
              "    .dataframe tbody tr th {\n",
              "        vertical-align: top;\n",
              "    }\n",
              "\n",
              "    .dataframe thead th {\n",
              "        text-align: right;\n",
              "    }\n",
              "</style>\n",
              "<table border=\"1\" class=\"dataframe\">\n",
              "  <thead>\n",
              "    <tr style=\"text-align: right;\">\n",
              "      <th></th>\n",
              "      <th>RowNumber</th>\n",
              "      <th>CustomerId</th>\n",
              "      <th>Surname</th>\n",
              "      <th>CreditScore</th>\n",
              "      <th>Geography</th>\n",
              "      <th>Gender</th>\n",
              "      <th>Age</th>\n",
              "      <th>Tenure</th>\n",
              "      <th>Balance</th>\n",
              "      <th>NumOfProducts</th>\n",
              "      <th>HasCrCard</th>\n",
              "      <th>IsActiveMember</th>\n",
              "      <th>EstimatedSalary</th>\n",
              "      <th>Exited</th>\n",
              "    </tr>\n",
              "  </thead>\n",
              "  <tbody>\n",
              "    <tr>\n",
              "      <th>0</th>\n",
              "      <td>1</td>\n",
              "      <td>15634602</td>\n",
              "      <td>Hargrave</td>\n",
              "      <td>619</td>\n",
              "      <td>France</td>\n",
              "      <td>Female</td>\n",
              "      <td>42</td>\n",
              "      <td>2</td>\n",
              "      <td>0.00</td>\n",
              "      <td>1</td>\n",
              "      <td>1</td>\n",
              "      <td>1</td>\n",
              "      <td>101348.88</td>\n",
              "      <td>1</td>\n",
              "    </tr>\n",
              "    <tr>\n",
              "      <th>1</th>\n",
              "      <td>2</td>\n",
              "      <td>15647311</td>\n",
              "      <td>Hill</td>\n",
              "      <td>608</td>\n",
              "      <td>Spain</td>\n",
              "      <td>Female</td>\n",
              "      <td>41</td>\n",
              "      <td>1</td>\n",
              "      <td>83807.86</td>\n",
              "      <td>1</td>\n",
              "      <td>0</td>\n",
              "      <td>1</td>\n",
              "      <td>112542.58</td>\n",
              "      <td>0</td>\n",
              "    </tr>\n",
              "    <tr>\n",
              "      <th>2</th>\n",
              "      <td>3</td>\n",
              "      <td>15619304</td>\n",
              "      <td>Onio</td>\n",
              "      <td>502</td>\n",
              "      <td>France</td>\n",
              "      <td>Female</td>\n",
              "      <td>42</td>\n",
              "      <td>8</td>\n",
              "      <td>159660.80</td>\n",
              "      <td>3</td>\n",
              "      <td>1</td>\n",
              "      <td>0</td>\n",
              "      <td>113931.57</td>\n",
              "      <td>1</td>\n",
              "    </tr>\n",
              "    <tr>\n",
              "      <th>3</th>\n",
              "      <td>4</td>\n",
              "      <td>15701354</td>\n",
              "      <td>Boni</td>\n",
              "      <td>699</td>\n",
              "      <td>France</td>\n",
              "      <td>Female</td>\n",
              "      <td>39</td>\n",
              "      <td>1</td>\n",
              "      <td>0.00</td>\n",
              "      <td>2</td>\n",
              "      <td>0</td>\n",
              "      <td>0</td>\n",
              "      <td>93826.63</td>\n",
              "      <td>0</td>\n",
              "    </tr>\n",
              "    <tr>\n",
              "      <th>4</th>\n",
              "      <td>5</td>\n",
              "      <td>15737888</td>\n",
              "      <td>Mitchell</td>\n",
              "      <td>850</td>\n",
              "      <td>Spain</td>\n",
              "      <td>Female</td>\n",
              "      <td>43</td>\n",
              "      <td>2</td>\n",
              "      <td>125510.82</td>\n",
              "      <td>1</td>\n",
              "      <td>1</td>\n",
              "      <td>1</td>\n",
              "      <td>79084.10</td>\n",
              "      <td>0</td>\n",
              "    </tr>\n",
              "  </tbody>\n",
              "</table>\n",
              "</div>"
            ],
            "text/plain": [
              "   RowNumber  CustomerId   Surname  ...  IsActiveMember EstimatedSalary Exited\n",
              "0          1    15634602  Hargrave  ...               1       101348.88      1\n",
              "1          2    15647311      Hill  ...               1       112542.58      0\n",
              "2          3    15619304      Onio  ...               0       113931.57      1\n",
              "3          4    15701354      Boni  ...               0        93826.63      0\n",
              "4          5    15737888  Mitchell  ...               1        79084.10      0\n",
              "\n",
              "[5 rows x 14 columns]"
            ]
          },
          "metadata": {
            "tags": []
          },
          "execution_count": 16
        }
      ]
    },
    {
      "cell_type": "code",
      "metadata": {
        "colab": {
          "base_uri": "https://localhost:8080/"
        },
        "id": "c8Esg0uxSVfh",
        "outputId": "418b1f5d-6658-4ad7-eeb6-c1bec66a97ef"
      },
      "source": [
        "dataset['Exited'].value_counts() #7963 cases of class 0 and 2037 cases of class 1"
      ],
      "execution_count": 14,
      "outputs": [
        {
          "output_type": "execute_result",
          "data": {
            "text/plain": [
              "0    7963\n",
              "1    2037\n",
              "Name: Exited, dtype: int64"
            ]
          },
          "metadata": {
            "tags": []
          },
          "execution_count": 14
        }
      ]
    },
    {
      "cell_type": "markdown",
      "metadata": {
        "id": "NVEooEm_ihZz"
      },
      "source": [
        "Encoding Categorical Data"
      ]
    },
    {
      "cell_type": "code",
      "metadata": {
        "id": "LLHY81tMj4tV",
        "colab": {
          "base_uri": "https://localhost:8080/"
        },
        "outputId": "6e936735-59b2-4a8b-ba72-be1a05d1302c"
      },
      "source": [
        "le = LabelEncoder() #creating an instance of the label encoder imported above\n",
        "X[:, 2] = le.fit_transform(X[:, 2]) #we are encoding column index 2 from array X, which is the gender. \n",
        "\n",
        "print(X[0:10,2]) #0 is female, 1 is male"
      ],
      "execution_count": 3,
      "outputs": [
        {
          "output_type": "stream",
          "text": [
            "[0 0 0 0 0 1 1 0 1 1]\n"
          ],
          "name": "stdout"
        }
      ]
    },
    {
      "cell_type": "markdown",
      "metadata": {
        "id": "i6-l5KMRkz3c"
      },
      "source": [
        "One Hot Encoding the Geography Column"
      ]
    },
    {
      "cell_type": "code",
      "metadata": {
        "id": "J_UAQ0cgk4Pu",
        "colab": {
          "base_uri": "https://localhost:8080/"
        },
        "outputId": "a0d1eb94-102e-4042-dcaf-100dda6c1c21"
      },
      "source": [
        "ct = ColumnTransformer(transformers=[('encoder', OneHotEncoder(), [1])], remainder='passthrough') #creating an instance of the ColumnTransformer and One Hot Encoding column 1 in X, which is geography.\n",
        "#this will then split up geography into 3 columns, one for each country (france, germany, spain)\n",
        "\n",
        "X = np.array(ct.fit_transform(X))\n",
        "\n",
        "print(X[0:5, 0:3]) #column 1 is France, column 2 is Germany, column 3 is Spain"
      ],
      "execution_count": 4,
      "outputs": [
        {
          "output_type": "stream",
          "text": [
            "[[1.0 0.0 0.0]\n",
            " [0.0 0.0 1.0]\n",
            " [1.0 0.0 0.0]\n",
            " [1.0 0.0 0.0]\n",
            " [0.0 0.0 1.0]]\n"
          ],
          "name": "stdout"
        }
      ]
    },
    {
      "cell_type": "markdown",
      "metadata": {
        "id": "aj1njLLHlvGd"
      },
      "source": [
        "Splitting the Dataset into the Training Set and Test Set"
      ]
    },
    {
      "cell_type": "code",
      "metadata": {
        "id": "tepoDaszllXR"
      },
      "source": [
        "X_train, X_test, y_train, y_test = train_test_split(X, y, test_size = 0.25)"
      ],
      "execution_count": 5,
      "outputs": []
    },
    {
      "cell_type": "markdown",
      "metadata": {
        "id": "7_aP9_bfl-ei"
      },
      "source": [
        "Feature Scaling"
      ]
    },
    {
      "cell_type": "code",
      "metadata": {
        "id": "pXiLZHKal_0_"
      },
      "source": [
        "#so here we're just scaling all our values using the following formula: z = (x - u) / s\n",
        "#x is the input, u is the mean, s is the standard deviation\n",
        "#https://scikit-learn.org/stable/modules/generated/sklearn.preprocessing.StandardScaler.html\n",
        "#we do this because models normally perform better when numerical input variables are scaled to a standard range\n",
        "sc = StandardScaler()\n",
        "X_train = sc.fit_transform(X_train)\n",
        "X_test = sc.transform(X_test)"
      ],
      "execution_count": 6,
      "outputs": []
    },
    {
      "cell_type": "markdown",
      "metadata": {
        "id": "IqUfJff1mS-G"
      },
      "source": [
        "# Part 2 - Making our ANN"
      ]
    },
    {
      "cell_type": "markdown",
      "metadata": {
        "id": "GHC9Ve4TXxY0"
      },
      "source": [
        "Adding EarlyStopping "
      ]
    },
    {
      "cell_type": "code",
      "metadata": {
        "id": "jtm73yJu2QQ4"
      },
      "source": [
        "#creating an instance of the EarlyStopping module we imported above\n",
        "#this callback allows us to stop the training if a loss condition is not met after certain epochs\n",
        "es = EarlyStopping(monitor='val_loss', mode='min', verbose=1, patience = 40) \n",
        "#here our mode is min, because we're trying to minimize the loss. if our metric was accuracy, we'd use max instead as the mode. patience = 40 means we wait 40 epochs until it stops "
      ],
      "execution_count": 7,
      "outputs": []
    },
    {
      "cell_type": "markdown",
      "metadata": {
        "id": "i7Xg8-dAYZS6"
      },
      "source": [
        "ANN Function"
      ]
    },
    {
      "cell_type": "code",
      "metadata": {
        "id": "ZHS9RLaChlbZ"
      },
      "source": [
        "def Classifier():\r\n",
        "  #Initializing\r\n",
        "  classifier = tf.keras.models.Sequential()\r\n",
        "\r\n",
        "  #Adding the hidden layers\r\n",
        "  classifier.add(tf.keras.layers.Dense(units = 12, kernel_initializer= 'uniform', activation = 'relu')) #we have units = 12. Also initialized randomly via a normal distribution\r\n",
        "  classifier.add(tf.keras.layers.Dropout(rate = 0.05)) #turning off a random 10% of neurons during training to reduce overfitting\r\n",
        "\r\n",
        "  classifier.add(tf.keras.layers.Dense(units = 12, kernel_initializer= 'uniform', activation = 'relu')) #we have units = 12 (which is output dimension) from (number indepedent variables + outputs)/2 = (11 + 1)/2 = 6. Also initialized randomly via a normal distribution\r\n",
        "  classifier.add(tf.keras.layers.Dropout(rate = 0.05)) #turning off a random 10% of neurons during training to reduce overfitting\r\n",
        "\r\n",
        "  classifier.add(tf.keras.layers.Dense(units = 6, kernel_initializer= 'uniform', activation = 'relu')) #we have units = 6 (which is output dimension) from (number indepedent variables + outputs)/2 = (11 + 1)/2 = 6. Also initialized randomly via a normal distribution\r\n",
        "  classifier.add(tf.keras.layers.Dropout(rate = 0.05)) #turning off a random 10% of neurons during training to reduce overfitting\r\n",
        "\r\n",
        "  #Adding the output layer\r\n",
        "  classifier.add(tf.keras.layers.Dense(units =1, kernel_initializer= 'uniform', activation = 'sigmoid')) #final layer is units =  1 (which is output dimension) , since we're just predicting exited or not\r\n",
        "  #we used sigmoid function as the output layer, since sigmoid gives us the probability of the output being a 0 or 1 \r\n",
        "  #Compiling the ANN\r\n",
        "  classifier.compile(loss='binary_crossentropy', optimizer='adam', metrics = ['accuracy']) #so here we're not using mse as the loss cuz its a binary classification\r\n",
        "  #use loss = categorical_crossentropy if we have more than 2 outcomes\r\n",
        "  #adam optimizer is usually one of the best ones for performing stochastic gradient descent  \r\n",
        "  return classifier"
      ],
      "execution_count": 8,
      "outputs": []
    },
    {
      "cell_type": "code",
      "metadata": {
        "id": "KoIfiC9la4sy"
      },
      "source": [
        "classifier = Classifier()"
      ],
      "execution_count": 9,
      "outputs": []
    },
    {
      "cell_type": "markdown",
      "metadata": {
        "id": "d5r_k2perCLN"
      },
      "source": [
        "# Part 3 - Training the ANN"
      ]
    },
    {
      "cell_type": "markdown",
      "metadata": {
        "id": "2h8GOtQ7rIjn"
      },
      "source": [
        "Training the ANN on the Training Set"
      ]
    },
    {
      "cell_type": "code",
      "metadata": {
        "id": "bZGa1a0drPgf",
        "colab": {
          "base_uri": "https://localhost:8080/"
        },
        "outputId": "5a7408fe-c735-49a7-bc55-d351377cac22"
      },
      "source": [
        "classifier.fit(x=X_train, y=y_train, batch_size = 16,epochs=300, validation_data=(X_test, y_test), callbacks=[es])\n",
        "#we chose batch size = 64 because training is batches is more efficient when training, since we compare several predictions and several results into a batch"
      ],
      "execution_count": 10,
      "outputs": [
        {
          "output_type": "stream",
          "text": [
            "Epoch 1/300\n",
            "469/469 [==============================] - 2s 2ms/step - loss: 0.5775 - accuracy: 0.7952 - val_loss: 0.4241 - val_accuracy: 0.8024\n",
            "Epoch 2/300\n",
            "469/469 [==============================] - 1s 2ms/step - loss: 0.4331 - accuracy: 0.7978 - val_loss: 0.4120 - val_accuracy: 0.8024\n",
            "Epoch 3/300\n",
            "469/469 [==============================] - 1s 2ms/step - loss: 0.4237 - accuracy: 0.7986 - val_loss: 0.4102 - val_accuracy: 0.8024\n",
            "Epoch 4/300\n",
            "469/469 [==============================] - 1s 2ms/step - loss: 0.4306 - accuracy: 0.8020 - val_loss: 0.4084 - val_accuracy: 0.8308\n",
            "Epoch 5/300\n",
            "469/469 [==============================] - 1s 2ms/step - loss: 0.4251 - accuracy: 0.8198 - val_loss: 0.4070 - val_accuracy: 0.8340\n",
            "Epoch 6/300\n",
            "469/469 [==============================] - 1s 2ms/step - loss: 0.4212 - accuracy: 0.8286 - val_loss: 0.4058 - val_accuracy: 0.8384\n",
            "Epoch 7/300\n",
            "469/469 [==============================] - 1s 2ms/step - loss: 0.4211 - accuracy: 0.8318 - val_loss: 0.4054 - val_accuracy: 0.8384\n",
            "Epoch 8/300\n",
            "469/469 [==============================] - 1s 2ms/step - loss: 0.4228 - accuracy: 0.8249 - val_loss: 0.4033 - val_accuracy: 0.8368\n",
            "Epoch 9/300\n",
            "469/469 [==============================] - 1s 2ms/step - loss: 0.4202 - accuracy: 0.8347 - val_loss: 0.4036 - val_accuracy: 0.8392\n",
            "Epoch 10/300\n",
            "469/469 [==============================] - 1s 2ms/step - loss: 0.4190 - accuracy: 0.8309 - val_loss: 0.4022 - val_accuracy: 0.8376\n",
            "Epoch 11/300\n",
            "469/469 [==============================] - 1s 2ms/step - loss: 0.4165 - accuracy: 0.8380 - val_loss: 0.4012 - val_accuracy: 0.8360\n",
            "Epoch 12/300\n",
            "469/469 [==============================] - 1s 2ms/step - loss: 0.4221 - accuracy: 0.8358 - val_loss: 0.4006 - val_accuracy: 0.8392\n",
            "Epoch 13/300\n",
            "469/469 [==============================] - 1s 2ms/step - loss: 0.4079 - accuracy: 0.8359 - val_loss: 0.4014 - val_accuracy: 0.8368\n",
            "Epoch 14/300\n",
            "469/469 [==============================] - 1s 2ms/step - loss: 0.4273 - accuracy: 0.8284 - val_loss: 0.3985 - val_accuracy: 0.8424\n",
            "Epoch 15/300\n",
            "469/469 [==============================] - 1s 2ms/step - loss: 0.4177 - accuracy: 0.8278 - val_loss: 0.3980 - val_accuracy: 0.8400\n",
            "Epoch 16/300\n",
            "469/469 [==============================] - 1s 2ms/step - loss: 0.4038 - accuracy: 0.8388 - val_loss: 0.3982 - val_accuracy: 0.8392\n",
            "Epoch 17/300\n",
            "469/469 [==============================] - 1s 2ms/step - loss: 0.4097 - accuracy: 0.8372 - val_loss: 0.3992 - val_accuracy: 0.8400\n",
            "Epoch 18/300\n",
            "469/469 [==============================] - 1s 2ms/step - loss: 0.4174 - accuracy: 0.8316 - val_loss: 0.3982 - val_accuracy: 0.8384\n",
            "Epoch 19/300\n",
            "469/469 [==============================] - 1s 2ms/step - loss: 0.4175 - accuracy: 0.8304 - val_loss: 0.3974 - val_accuracy: 0.8420\n",
            "Epoch 20/300\n",
            "469/469 [==============================] - 1s 2ms/step - loss: 0.4065 - accuracy: 0.8358 - val_loss: 0.3978 - val_accuracy: 0.8412\n",
            "Epoch 21/300\n",
            "469/469 [==============================] - 1s 2ms/step - loss: 0.4095 - accuracy: 0.8438 - val_loss: 0.3966 - val_accuracy: 0.8424\n",
            "Epoch 22/300\n",
            "469/469 [==============================] - 1s 2ms/step - loss: 0.4120 - accuracy: 0.8339 - val_loss: 0.3991 - val_accuracy: 0.8424\n",
            "Epoch 23/300\n",
            "469/469 [==============================] - 1s 2ms/step - loss: 0.4092 - accuracy: 0.8397 - val_loss: 0.3948 - val_accuracy: 0.8416\n",
            "Epoch 24/300\n",
            "469/469 [==============================] - 1s 2ms/step - loss: 0.4274 - accuracy: 0.8258 - val_loss: 0.3965 - val_accuracy: 0.8424\n",
            "Epoch 25/300\n",
            "469/469 [==============================] - 1s 2ms/step - loss: 0.4145 - accuracy: 0.8333 - val_loss: 0.3956 - val_accuracy: 0.8412\n",
            "Epoch 26/300\n",
            "469/469 [==============================] - 1s 2ms/step - loss: 0.4166 - accuracy: 0.8367 - val_loss: 0.3955 - val_accuracy: 0.8432\n",
            "Epoch 27/300\n",
            "469/469 [==============================] - 1s 2ms/step - loss: 0.4171 - accuracy: 0.8315 - val_loss: 0.3960 - val_accuracy: 0.8392\n",
            "Epoch 28/300\n",
            "469/469 [==============================] - 1s 2ms/step - loss: 0.4176 - accuracy: 0.8337 - val_loss: 0.3960 - val_accuracy: 0.8384\n",
            "Epoch 29/300\n",
            "469/469 [==============================] - 1s 2ms/step - loss: 0.4276 - accuracy: 0.8244 - val_loss: 0.3930 - val_accuracy: 0.8408\n",
            "Epoch 30/300\n",
            "469/469 [==============================] - 1s 2ms/step - loss: 0.4173 - accuracy: 0.8314 - val_loss: 0.3946 - val_accuracy: 0.8428\n",
            "Epoch 31/300\n",
            "469/469 [==============================] - 1s 2ms/step - loss: 0.4082 - accuracy: 0.8308 - val_loss: 0.3945 - val_accuracy: 0.8420\n",
            "Epoch 32/300\n",
            "469/469 [==============================] - 1s 2ms/step - loss: 0.4136 - accuracy: 0.8331 - val_loss: 0.3915 - val_accuracy: 0.8404\n",
            "Epoch 33/300\n",
            "469/469 [==============================] - 1s 2ms/step - loss: 0.4088 - accuracy: 0.8306 - val_loss: 0.3901 - val_accuracy: 0.8416\n",
            "Epoch 34/300\n",
            "469/469 [==============================] - 1s 2ms/step - loss: 0.4034 - accuracy: 0.8376 - val_loss: 0.3944 - val_accuracy: 0.8424\n",
            "Epoch 35/300\n",
            "469/469 [==============================] - 1s 2ms/step - loss: 0.4081 - accuracy: 0.8347 - val_loss: 0.3891 - val_accuracy: 0.8396\n",
            "Epoch 36/300\n",
            "469/469 [==============================] - 1s 2ms/step - loss: 0.4049 - accuracy: 0.8395 - val_loss: 0.3905 - val_accuracy: 0.8408\n",
            "Epoch 37/300\n",
            "469/469 [==============================] - 1s 2ms/step - loss: 0.4123 - accuracy: 0.8364 - val_loss: 0.3897 - val_accuracy: 0.8424\n",
            "Epoch 38/300\n",
            "469/469 [==============================] - 1s 2ms/step - loss: 0.4160 - accuracy: 0.8311 - val_loss: 0.3908 - val_accuracy: 0.8400\n",
            "Epoch 39/300\n",
            "469/469 [==============================] - 1s 2ms/step - loss: 0.4115 - accuracy: 0.8383 - val_loss: 0.3921 - val_accuracy: 0.8452\n",
            "Epoch 40/300\n",
            "469/469 [==============================] - 1s 2ms/step - loss: 0.4179 - accuracy: 0.8334 - val_loss: 0.3888 - val_accuracy: 0.8436\n",
            "Epoch 41/300\n",
            "469/469 [==============================] - 1s 2ms/step - loss: 0.4054 - accuracy: 0.8377 - val_loss: 0.3890 - val_accuracy: 0.8416\n",
            "Epoch 42/300\n",
            "469/469 [==============================] - 1s 2ms/step - loss: 0.4027 - accuracy: 0.8376 - val_loss: 0.3894 - val_accuracy: 0.8420\n",
            "Epoch 43/300\n",
            "469/469 [==============================] - 1s 2ms/step - loss: 0.4175 - accuracy: 0.8222 - val_loss: 0.3872 - val_accuracy: 0.8420\n",
            "Epoch 44/300\n",
            "469/469 [==============================] - 1s 2ms/step - loss: 0.4018 - accuracy: 0.8360 - val_loss: 0.3901 - val_accuracy: 0.8436\n",
            "Epoch 45/300\n",
            "469/469 [==============================] - 1s 2ms/step - loss: 0.3989 - accuracy: 0.8375 - val_loss: 0.3865 - val_accuracy: 0.8420\n",
            "Epoch 46/300\n",
            "469/469 [==============================] - 1s 2ms/step - loss: 0.3953 - accuracy: 0.8376 - val_loss: 0.3893 - val_accuracy: 0.8412\n",
            "Epoch 47/300\n",
            "469/469 [==============================] - 1s 2ms/step - loss: 0.4124 - accuracy: 0.8276 - val_loss: 0.3831 - val_accuracy: 0.8444\n",
            "Epoch 48/300\n",
            "469/469 [==============================] - 1s 2ms/step - loss: 0.3958 - accuracy: 0.8365 - val_loss: 0.3843 - val_accuracy: 0.8456\n",
            "Epoch 49/300\n",
            "469/469 [==============================] - 1s 2ms/step - loss: 0.3942 - accuracy: 0.8423 - val_loss: 0.3873 - val_accuracy: 0.8476\n",
            "Epoch 50/300\n",
            "469/469 [==============================] - 1s 2ms/step - loss: 0.4006 - accuracy: 0.8371 - val_loss: 0.3760 - val_accuracy: 0.8464\n",
            "Epoch 51/300\n",
            "469/469 [==============================] - 1s 2ms/step - loss: 0.3968 - accuracy: 0.8337 - val_loss: 0.3736 - val_accuracy: 0.8484\n",
            "Epoch 52/300\n",
            "469/469 [==============================] - 1s 2ms/step - loss: 0.3896 - accuracy: 0.8432 - val_loss: 0.3657 - val_accuracy: 0.8560\n",
            "Epoch 53/300\n",
            "469/469 [==============================] - 1s 2ms/step - loss: 0.3940 - accuracy: 0.8395 - val_loss: 0.3581 - val_accuracy: 0.8560\n",
            "Epoch 54/300\n",
            "469/469 [==============================] - 1s 2ms/step - loss: 0.3784 - accuracy: 0.8502 - val_loss: 0.3503 - val_accuracy: 0.8624\n",
            "Epoch 55/300\n",
            "469/469 [==============================] - 1s 2ms/step - loss: 0.3718 - accuracy: 0.8520 - val_loss: 0.3466 - val_accuracy: 0.8668\n",
            "Epoch 56/300\n",
            "469/469 [==============================] - 1s 2ms/step - loss: 0.3739 - accuracy: 0.8528 - val_loss: 0.3462 - val_accuracy: 0.8680\n",
            "Epoch 57/300\n",
            "469/469 [==============================] - 1s 2ms/step - loss: 0.3731 - accuracy: 0.8562 - val_loss: 0.3442 - val_accuracy: 0.8684\n",
            "Epoch 58/300\n",
            "469/469 [==============================] - 1s 2ms/step - loss: 0.3624 - accuracy: 0.8576 - val_loss: 0.3431 - val_accuracy: 0.8712\n",
            "Epoch 59/300\n",
            "469/469 [==============================] - 1s 2ms/step - loss: 0.3691 - accuracy: 0.8513 - val_loss: 0.3420 - val_accuracy: 0.8736\n",
            "Epoch 60/300\n",
            "469/469 [==============================] - 1s 2ms/step - loss: 0.3617 - accuracy: 0.8571 - val_loss: 0.3417 - val_accuracy: 0.8716\n",
            "Epoch 61/300\n",
            "469/469 [==============================] - 1s 2ms/step - loss: 0.3665 - accuracy: 0.8558 - val_loss: 0.3420 - val_accuracy: 0.8704\n",
            "Epoch 62/300\n",
            "469/469 [==============================] - 1s 2ms/step - loss: 0.3681 - accuracy: 0.8528 - val_loss: 0.3410 - val_accuracy: 0.8708\n",
            "Epoch 63/300\n",
            "469/469 [==============================] - 1s 2ms/step - loss: 0.3732 - accuracy: 0.8523 - val_loss: 0.3412 - val_accuracy: 0.8724\n",
            "Epoch 64/300\n",
            "469/469 [==============================] - 1s 2ms/step - loss: 0.3607 - accuracy: 0.8598 - val_loss: 0.3413 - val_accuracy: 0.8692\n",
            "Epoch 65/300\n",
            "469/469 [==============================] - 1s 2ms/step - loss: 0.3649 - accuracy: 0.8547 - val_loss: 0.3402 - val_accuracy: 0.8744\n",
            "Epoch 66/300\n",
            "469/469 [==============================] - 1s 2ms/step - loss: 0.3666 - accuracy: 0.8544 - val_loss: 0.3397 - val_accuracy: 0.8728\n",
            "Epoch 67/300\n",
            "469/469 [==============================] - 1s 2ms/step - loss: 0.3560 - accuracy: 0.8617 - val_loss: 0.3389 - val_accuracy: 0.8700\n",
            "Epoch 68/300\n",
            "469/469 [==============================] - 1s 2ms/step - loss: 0.3577 - accuracy: 0.8584 - val_loss: 0.3400 - val_accuracy: 0.8712\n",
            "Epoch 69/300\n",
            "469/469 [==============================] - 1s 2ms/step - loss: 0.3578 - accuracy: 0.8544 - val_loss: 0.3412 - val_accuracy: 0.8720\n",
            "Epoch 70/300\n",
            "469/469 [==============================] - 1s 2ms/step - loss: 0.3617 - accuracy: 0.8535 - val_loss: 0.3419 - val_accuracy: 0.8680\n",
            "Epoch 71/300\n",
            "469/469 [==============================] - 1s 2ms/step - loss: 0.3675 - accuracy: 0.8515 - val_loss: 0.3391 - val_accuracy: 0.8692\n",
            "Epoch 72/300\n",
            "469/469 [==============================] - 1s 2ms/step - loss: 0.3568 - accuracy: 0.8511 - val_loss: 0.3412 - val_accuracy: 0.8684\n",
            "Epoch 73/300\n",
            "469/469 [==============================] - 1s 2ms/step - loss: 0.3670 - accuracy: 0.8513 - val_loss: 0.3390 - val_accuracy: 0.8720\n",
            "Epoch 74/300\n",
            "469/469 [==============================] - 1s 2ms/step - loss: 0.3613 - accuracy: 0.8574 - val_loss: 0.3404 - val_accuracy: 0.8700\n",
            "Epoch 75/300\n",
            "469/469 [==============================] - 1s 2ms/step - loss: 0.3755 - accuracy: 0.8518 - val_loss: 0.3402 - val_accuracy: 0.8748\n",
            "Epoch 76/300\n",
            "469/469 [==============================] - 1s 2ms/step - loss: 0.3583 - accuracy: 0.8602 - val_loss: 0.3417 - val_accuracy: 0.8696\n",
            "Epoch 77/300\n",
            "469/469 [==============================] - 1s 2ms/step - loss: 0.3681 - accuracy: 0.8559 - val_loss: 0.3404 - val_accuracy: 0.8696\n",
            "Epoch 78/300\n",
            "469/469 [==============================] - 1s 2ms/step - loss: 0.3615 - accuracy: 0.8566 - val_loss: 0.3434 - val_accuracy: 0.8672\n",
            "Epoch 79/300\n",
            "469/469 [==============================] - 1s 2ms/step - loss: 0.3712 - accuracy: 0.8484 - val_loss: 0.3384 - val_accuracy: 0.8708\n",
            "Epoch 80/300\n",
            "469/469 [==============================] - 1s 2ms/step - loss: 0.3697 - accuracy: 0.8541 - val_loss: 0.3383 - val_accuracy: 0.8728\n",
            "Epoch 81/300\n",
            "469/469 [==============================] - 1s 2ms/step - loss: 0.3617 - accuracy: 0.8494 - val_loss: 0.3381 - val_accuracy: 0.8716\n",
            "Epoch 82/300\n",
            "469/469 [==============================] - 1s 2ms/step - loss: 0.3634 - accuracy: 0.8571 - val_loss: 0.3395 - val_accuracy: 0.8720\n",
            "Epoch 83/300\n",
            "469/469 [==============================] - 1s 2ms/step - loss: 0.3714 - accuracy: 0.8546 - val_loss: 0.3378 - val_accuracy: 0.8720\n",
            "Epoch 84/300\n",
            "469/469 [==============================] - 1s 2ms/step - loss: 0.3577 - accuracy: 0.8557 - val_loss: 0.3391 - val_accuracy: 0.8708\n",
            "Epoch 85/300\n",
            "469/469 [==============================] - 1s 2ms/step - loss: 0.3620 - accuracy: 0.8579 - val_loss: 0.3403 - val_accuracy: 0.8672\n",
            "Epoch 86/300\n",
            "469/469 [==============================] - 1s 2ms/step - loss: 0.3692 - accuracy: 0.8579 - val_loss: 0.3407 - val_accuracy: 0.8680\n",
            "Epoch 87/300\n",
            "469/469 [==============================] - 1s 2ms/step - loss: 0.3539 - accuracy: 0.8612 - val_loss: 0.3395 - val_accuracy: 0.8716\n",
            "Epoch 88/300\n",
            "469/469 [==============================] - 1s 2ms/step - loss: 0.3632 - accuracy: 0.8611 - val_loss: 0.3396 - val_accuracy: 0.8736\n",
            "Epoch 89/300\n",
            "469/469 [==============================] - 1s 2ms/step - loss: 0.3630 - accuracy: 0.8561 - val_loss: 0.3384 - val_accuracy: 0.8736\n",
            "Epoch 90/300\n",
            "469/469 [==============================] - 1s 2ms/step - loss: 0.3589 - accuracy: 0.8548 - val_loss: 0.3429 - val_accuracy: 0.8672\n",
            "Epoch 91/300\n",
            "469/469 [==============================] - 1s 2ms/step - loss: 0.3680 - accuracy: 0.8524 - val_loss: 0.3405 - val_accuracy: 0.8672\n",
            "Epoch 92/300\n",
            "469/469 [==============================] - 1s 2ms/step - loss: 0.3677 - accuracy: 0.8503 - val_loss: 0.3389 - val_accuracy: 0.8696\n",
            "Epoch 93/300\n",
            "469/469 [==============================] - 1s 2ms/step - loss: 0.3553 - accuracy: 0.8579 - val_loss: 0.3388 - val_accuracy: 0.8720\n",
            "Epoch 94/300\n",
            "469/469 [==============================] - 1s 2ms/step - loss: 0.3640 - accuracy: 0.8623 - val_loss: 0.3427 - val_accuracy: 0.8716\n",
            "Epoch 95/300\n",
            "469/469 [==============================] - 1s 2ms/step - loss: 0.3555 - accuracy: 0.8582 - val_loss: 0.3438 - val_accuracy: 0.8684\n",
            "Epoch 96/300\n",
            "469/469 [==============================] - 1s 2ms/step - loss: 0.3664 - accuracy: 0.8588 - val_loss: 0.3386 - val_accuracy: 0.8732\n",
            "Epoch 97/300\n",
            "469/469 [==============================] - 1s 2ms/step - loss: 0.3513 - accuracy: 0.8621 - val_loss: 0.3443 - val_accuracy: 0.8704\n",
            "Epoch 98/300\n",
            "469/469 [==============================] - 1s 2ms/step - loss: 0.3638 - accuracy: 0.8561 - val_loss: 0.3393 - val_accuracy: 0.8716\n",
            "Epoch 99/300\n",
            "469/469 [==============================] - 1s 2ms/step - loss: 0.3632 - accuracy: 0.8513 - val_loss: 0.3385 - val_accuracy: 0.8712\n",
            "Epoch 100/300\n",
            "469/469 [==============================] - 1s 2ms/step - loss: 0.3647 - accuracy: 0.8558 - val_loss: 0.3414 - val_accuracy: 0.8728\n",
            "Epoch 101/300\n",
            "469/469 [==============================] - 1s 2ms/step - loss: 0.3676 - accuracy: 0.8444 - val_loss: 0.3398 - val_accuracy: 0.8720\n",
            "Epoch 102/300\n",
            "469/469 [==============================] - 1s 2ms/step - loss: 0.3611 - accuracy: 0.8588 - val_loss: 0.3390 - val_accuracy: 0.8724\n",
            "Epoch 103/300\n",
            "469/469 [==============================] - 1s 2ms/step - loss: 0.3609 - accuracy: 0.8608 - val_loss: 0.3408 - val_accuracy: 0.8696\n",
            "Epoch 104/300\n",
            "469/469 [==============================] - 1s 2ms/step - loss: 0.3672 - accuracy: 0.8556 - val_loss: 0.3410 - val_accuracy: 0.8692\n",
            "Epoch 105/300\n",
            "469/469 [==============================] - 1s 2ms/step - loss: 0.3769 - accuracy: 0.8540 - val_loss: 0.3429 - val_accuracy: 0.8684\n",
            "Epoch 106/300\n",
            "469/469 [==============================] - 1s 2ms/step - loss: 0.3595 - accuracy: 0.8592 - val_loss: 0.3388 - val_accuracy: 0.8712\n",
            "Epoch 107/300\n",
            "469/469 [==============================] - 1s 2ms/step - loss: 0.3705 - accuracy: 0.8588 - val_loss: 0.3377 - val_accuracy: 0.8744\n",
            "Epoch 108/300\n",
            "469/469 [==============================] - 1s 2ms/step - loss: 0.3615 - accuracy: 0.8614 - val_loss: 0.3395 - val_accuracy: 0.8700\n",
            "Epoch 109/300\n",
            "469/469 [==============================] - 1s 2ms/step - loss: 0.3678 - accuracy: 0.8507 - val_loss: 0.3386 - val_accuracy: 0.8700\n",
            "Epoch 110/300\n",
            "469/469 [==============================] - 1s 2ms/step - loss: 0.3704 - accuracy: 0.8465 - val_loss: 0.3422 - val_accuracy: 0.8708\n",
            "Epoch 111/300\n",
            "469/469 [==============================] - 1s 2ms/step - loss: 0.3663 - accuracy: 0.8541 - val_loss: 0.3388 - val_accuracy: 0.8712\n",
            "Epoch 112/300\n",
            "469/469 [==============================] - 1s 2ms/step - loss: 0.3728 - accuracy: 0.8484 - val_loss: 0.3418 - val_accuracy: 0.8688\n",
            "Epoch 113/300\n",
            "469/469 [==============================] - 1s 2ms/step - loss: 0.3688 - accuracy: 0.8503 - val_loss: 0.3380 - val_accuracy: 0.8740\n",
            "Epoch 114/300\n",
            "469/469 [==============================] - 1s 2ms/step - loss: 0.3618 - accuracy: 0.8534 - val_loss: 0.3410 - val_accuracy: 0.8736\n",
            "Epoch 115/300\n",
            "469/469 [==============================] - 1s 2ms/step - loss: 0.3561 - accuracy: 0.8530 - val_loss: 0.3384 - val_accuracy: 0.8716\n",
            "Epoch 116/300\n",
            "469/469 [==============================] - 1s 2ms/step - loss: 0.3584 - accuracy: 0.8560 - val_loss: 0.3427 - val_accuracy: 0.8672\n",
            "Epoch 117/300\n",
            "469/469 [==============================] - 1s 2ms/step - loss: 0.3657 - accuracy: 0.8503 - val_loss: 0.3450 - val_accuracy: 0.8664\n",
            "Epoch 118/300\n",
            "469/469 [==============================] - 1s 2ms/step - loss: 0.3821 - accuracy: 0.8439 - val_loss: 0.3391 - val_accuracy: 0.8728\n",
            "Epoch 119/300\n",
            "469/469 [==============================] - 1s 2ms/step - loss: 0.3613 - accuracy: 0.8523 - val_loss: 0.3412 - val_accuracy: 0.8692\n",
            "Epoch 120/300\n",
            "469/469 [==============================] - 1s 2ms/step - loss: 0.3719 - accuracy: 0.8522 - val_loss: 0.3401 - val_accuracy: 0.8712\n",
            "Epoch 121/300\n",
            "469/469 [==============================] - 1s 2ms/step - loss: 0.3575 - accuracy: 0.8556 - val_loss: 0.3399 - val_accuracy: 0.8728\n",
            "Epoch 122/300\n",
            "469/469 [==============================] - 1s 2ms/step - loss: 0.3600 - accuracy: 0.8552 - val_loss: 0.3403 - val_accuracy: 0.8736\n",
            "Epoch 123/300\n",
            "469/469 [==============================] - 1s 2ms/step - loss: 0.3809 - accuracy: 0.8466 - val_loss: 0.3390 - val_accuracy: 0.8696\n",
            "Epoch 124/300\n",
            "469/469 [==============================] - 1s 2ms/step - loss: 0.3558 - accuracy: 0.8610 - val_loss: 0.3390 - val_accuracy: 0.8728\n",
            "Epoch 125/300\n",
            "469/469 [==============================] - 1s 2ms/step - loss: 0.3710 - accuracy: 0.8491 - val_loss: 0.3388 - val_accuracy: 0.8716\n",
            "Epoch 126/300\n",
            "469/469 [==============================] - 1s 2ms/step - loss: 0.3743 - accuracy: 0.8575 - val_loss: 0.3413 - val_accuracy: 0.8684\n",
            "Epoch 127/300\n",
            "469/469 [==============================] - 1s 2ms/step - loss: 0.3595 - accuracy: 0.8607 - val_loss: 0.3366 - val_accuracy: 0.8708\n",
            "Epoch 128/300\n",
            "469/469 [==============================] - 1s 2ms/step - loss: 0.3588 - accuracy: 0.8554 - val_loss: 0.3378 - val_accuracy: 0.8724\n",
            "Epoch 129/300\n",
            "469/469 [==============================] - 1s 2ms/step - loss: 0.3675 - accuracy: 0.8532 - val_loss: 0.3391 - val_accuracy: 0.8732\n",
            "Epoch 130/300\n",
            "469/469 [==============================] - 1s 2ms/step - loss: 0.3580 - accuracy: 0.8562 - val_loss: 0.3406 - val_accuracy: 0.8680\n",
            "Epoch 131/300\n",
            "469/469 [==============================] - 1s 2ms/step - loss: 0.3567 - accuracy: 0.8571 - val_loss: 0.3377 - val_accuracy: 0.8736\n",
            "Epoch 132/300\n",
            "469/469 [==============================] - 1s 2ms/step - loss: 0.3637 - accuracy: 0.8549 - val_loss: 0.3382 - val_accuracy: 0.8700\n",
            "Epoch 133/300\n",
            "469/469 [==============================] - 1s 2ms/step - loss: 0.3722 - accuracy: 0.8478 - val_loss: 0.3387 - val_accuracy: 0.8708\n",
            "Epoch 134/300\n",
            "469/469 [==============================] - 1s 2ms/step - loss: 0.3506 - accuracy: 0.8581 - val_loss: 0.3370 - val_accuracy: 0.8736\n",
            "Epoch 135/300\n",
            "469/469 [==============================] - 1s 2ms/step - loss: 0.3533 - accuracy: 0.8559 - val_loss: 0.3381 - val_accuracy: 0.8700\n",
            "Epoch 136/300\n",
            "469/469 [==============================] - 1s 2ms/step - loss: 0.3568 - accuracy: 0.8563 - val_loss: 0.3378 - val_accuracy: 0.8736\n",
            "Epoch 137/300\n",
            "469/469 [==============================] - 1s 2ms/step - loss: 0.3681 - accuracy: 0.8576 - val_loss: 0.3397 - val_accuracy: 0.8688\n",
            "Epoch 138/300\n",
            "469/469 [==============================] - 1s 2ms/step - loss: 0.3590 - accuracy: 0.8576 - val_loss: 0.3399 - val_accuracy: 0.8708\n",
            "Epoch 139/300\n",
            "469/469 [==============================] - 1s 2ms/step - loss: 0.3617 - accuracy: 0.8593 - val_loss: 0.3390 - val_accuracy: 0.8716\n",
            "Epoch 140/300\n",
            "469/469 [==============================] - 1s 2ms/step - loss: 0.3639 - accuracy: 0.8559 - val_loss: 0.3391 - val_accuracy: 0.8704\n",
            "Epoch 141/300\n",
            "469/469 [==============================] - 1s 2ms/step - loss: 0.3644 - accuracy: 0.8571 - val_loss: 0.3377 - val_accuracy: 0.8748\n",
            "Epoch 142/300\n",
            "469/469 [==============================] - 1s 2ms/step - loss: 0.3603 - accuracy: 0.8595 - val_loss: 0.3390 - val_accuracy: 0.8724\n",
            "Epoch 143/300\n",
            "469/469 [==============================] - 1s 2ms/step - loss: 0.3628 - accuracy: 0.8560 - val_loss: 0.3376 - val_accuracy: 0.8732\n",
            "Epoch 144/300\n",
            "469/469 [==============================] - 1s 2ms/step - loss: 0.3605 - accuracy: 0.8566 - val_loss: 0.3409 - val_accuracy: 0.8700\n",
            "Epoch 145/300\n",
            "469/469 [==============================] - 1s 2ms/step - loss: 0.3474 - accuracy: 0.8651 - val_loss: 0.3380 - val_accuracy: 0.8728\n",
            "Epoch 146/300\n",
            "469/469 [==============================] - 1s 2ms/step - loss: 0.3634 - accuracy: 0.8530 - val_loss: 0.3395 - val_accuracy: 0.8712\n",
            "Epoch 147/300\n",
            "469/469 [==============================] - 1s 2ms/step - loss: 0.3655 - accuracy: 0.8476 - val_loss: 0.3370 - val_accuracy: 0.8736\n",
            "Epoch 148/300\n",
            "469/469 [==============================] - 1s 2ms/step - loss: 0.3541 - accuracy: 0.8634 - val_loss: 0.3413 - val_accuracy: 0.8704\n",
            "Epoch 149/300\n",
            "469/469 [==============================] - 1s 2ms/step - loss: 0.3598 - accuracy: 0.8555 - val_loss: 0.3391 - val_accuracy: 0.8728\n",
            "Epoch 150/300\n",
            "469/469 [==============================] - 1s 2ms/step - loss: 0.3559 - accuracy: 0.8572 - val_loss: 0.3393 - val_accuracy: 0.8736\n",
            "Epoch 151/300\n",
            "469/469 [==============================] - 1s 2ms/step - loss: 0.3668 - accuracy: 0.8536 - val_loss: 0.3370 - val_accuracy: 0.8744\n",
            "Epoch 152/300\n",
            "469/469 [==============================] - 1s 2ms/step - loss: 0.3689 - accuracy: 0.8522 - val_loss: 0.3402 - val_accuracy: 0.8720\n",
            "Epoch 153/300\n",
            "469/469 [==============================] - 1s 2ms/step - loss: 0.3545 - accuracy: 0.8623 - val_loss: 0.3378 - val_accuracy: 0.8740\n",
            "Epoch 154/300\n",
            "469/469 [==============================] - 1s 2ms/step - loss: 0.3597 - accuracy: 0.8576 - val_loss: 0.3385 - val_accuracy: 0.8736\n",
            "Epoch 155/300\n",
            "469/469 [==============================] - 1s 2ms/step - loss: 0.3667 - accuracy: 0.8477 - val_loss: 0.3406 - val_accuracy: 0.8680\n",
            "Epoch 156/300\n",
            "469/469 [==============================] - 1s 2ms/step - loss: 0.3593 - accuracy: 0.8596 - val_loss: 0.3390 - val_accuracy: 0.8720\n",
            "Epoch 157/300\n",
            "469/469 [==============================] - 1s 2ms/step - loss: 0.3786 - accuracy: 0.8548 - val_loss: 0.3377 - val_accuracy: 0.8740\n",
            "Epoch 158/300\n",
            "469/469 [==============================] - 1s 2ms/step - loss: 0.3540 - accuracy: 0.8543 - val_loss: 0.3392 - val_accuracy: 0.8712\n",
            "Epoch 159/300\n",
            "469/469 [==============================] - 1s 2ms/step - loss: 0.3525 - accuracy: 0.8630 - val_loss: 0.3398 - val_accuracy: 0.8712\n",
            "Epoch 160/300\n",
            "469/469 [==============================] - 1s 2ms/step - loss: 0.3599 - accuracy: 0.8593 - val_loss: 0.3396 - val_accuracy: 0.8716\n",
            "Epoch 161/300\n",
            "469/469 [==============================] - 1s 2ms/step - loss: 0.3759 - accuracy: 0.8494 - val_loss: 0.3374 - val_accuracy: 0.8724\n",
            "Epoch 162/300\n",
            "469/469 [==============================] - 1s 2ms/step - loss: 0.3627 - accuracy: 0.8554 - val_loss: 0.3399 - val_accuracy: 0.8696\n",
            "Epoch 163/300\n",
            "469/469 [==============================] - 1s 2ms/step - loss: 0.3516 - accuracy: 0.8624 - val_loss: 0.3410 - val_accuracy: 0.8708\n",
            "Epoch 164/300\n",
            "469/469 [==============================] - 1s 2ms/step - loss: 0.3566 - accuracy: 0.8604 - val_loss: 0.3382 - val_accuracy: 0.8712\n",
            "Epoch 165/300\n",
            "469/469 [==============================] - 1s 2ms/step - loss: 0.3567 - accuracy: 0.8550 - val_loss: 0.3392 - val_accuracy: 0.8740\n",
            "Epoch 166/300\n",
            "469/469 [==============================] - 1s 2ms/step - loss: 0.3528 - accuracy: 0.8618 - val_loss: 0.3394 - val_accuracy: 0.8708\n",
            "Epoch 167/300\n",
            "469/469 [==============================] - 1s 2ms/step - loss: 0.3520 - accuracy: 0.8569 - val_loss: 0.3380 - val_accuracy: 0.8740\n",
            "Epoch 00167: early stopping\n"
          ],
          "name": "stdout"
        },
        {
          "output_type": "execute_result",
          "data": {
            "text/plain": [
              "<tensorflow.python.keras.callbacks.History at 0x7f3b360943c8>"
            ]
          },
          "metadata": {
            "tags": []
          },
          "execution_count": 10
        }
      ]
    },
    {
      "cell_type": "markdown",
      "metadata": {
        "id": "9Tm-TWtexdgR"
      },
      "source": [
        "# Part 4 - Making our Predictions"
      ]
    },
    {
      "cell_type": "code",
      "metadata": {
        "id": "_NtF4h1excii",
        "colab": {
          "base_uri": "https://localhost:8080/"
        },
        "outputId": "705c41c2-081d-4447-a631-2424743f2008"
      },
      "source": [
        "#12,12,6 with 0.05 dropout and 16 batch size\n",
        "y_pred = classifier.predict(X_test)\n",
        "y_pred = (y_pred > 0.5) #just to now round the values to true or false\n",
        "\n",
        "from sklearn.metrics import classification_report, confusion_matrix\n",
        "\n",
        "print(classification_report(y_test, y_pred)) #very good precision and accuracy\n",
        "print(confusion_matrix(y_test,y_pred)) #only misclassified 1 which is good"
      ],
      "execution_count": 11,
      "outputs": [
        {
          "output_type": "stream",
          "text": [
            "              precision    recall  f1-score   support\n",
            "\n",
            "           0       0.88      0.98      0.93      2006\n",
            "           1       0.83      0.46      0.59       494\n",
            "\n",
            "    accuracy                           0.87      2500\n",
            "   macro avg       0.85      0.72      0.76      2500\n",
            "weighted avg       0.87      0.87      0.86      2500\n",
            "\n",
            "[[1959   47]\n",
            " [ 268  226]]\n"
          ],
          "name": "stdout"
        }
      ]
    },
    {
      "cell_type": "markdown",
      "metadata": {
        "id": "3rQbLD-1x4_I"
      },
      "source": [
        "Use the ANN model to predict if the customer with the following informations will leave the bank:\n",
        "\n",
        "Geography: Germany\n",
        "\n",
        "Credit Score: 700\n",
        "\n",
        "Gender: Female\n",
        "\n",
        "Age: 35 years old\n",
        "\n",
        "Tenure: 2 years\n",
        "\n",
        "Balance: $ 117000\n",
        "\n",
        "Number of Products: 3\n",
        "\n",
        "Does this customer have a credit card? Yes\n",
        "\n",
        "Is this customer an Active Member: Yes\n",
        "\n",
        "Estimated Salary: $ 117000"
      ]
    },
    {
      "cell_type": "code",
      "metadata": {
        "id": "ctsBgcNGyASx",
        "colab": {
          "base_uri": "https://localhost:8080/"
        },
        "outputId": "c10db7ee-b042-45f1-d885-d231cb838e91"
      },
      "source": [
        "hw_pred = classifier.predict(sc.transform([[0, 1, 0, 700, 0, 35, 3, 34300, 3, 1, 1, 117000]]))\n",
        "hw_pred = (hw_pred > 0.5) #just to now round the values to true or false\n",
        "print(hw_pred)"
      ],
      "execution_count": 13,
      "outputs": [
        {
          "output_type": "stream",
          "text": [
            "[[ True]]\n"
          ],
          "name": "stdout"
        }
      ]
    },
    {
      "cell_type": "code",
      "metadata": {
        "id": "3iLoatruOJpe"
      },
      "source": [
        ""
      ],
      "execution_count": null,
      "outputs": []
    }
  ]
}